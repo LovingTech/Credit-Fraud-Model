{
 "cells": [
  {
   "cell_type": "code",
   "execution_count": 1,
   "id": "3f8f6969-8736-4873-b779-0fc61942870b",
   "metadata": {},
   "outputs": [
    {
     "ename": "NameError",
     "evalue": "name 'SparkSession' is not defined",
     "output_type": "error",
     "traceback": [
      "\u001b[0;31m---------------------------------------------------------------------------\u001b[0m",
      "\u001b[0;31mNameError\u001b[0m                                 Traceback (most recent call last)",
      "Cell \u001b[0;32mIn[1], line 1\u001b[0m\n\u001b[0;32m----> 1\u001b[0m spark \u001b[38;5;241m=\u001b[39m \u001b[43mSparkSession\u001b[49m\u001b[38;5;241m.\u001b[39mbuilder \\\n\u001b[1;32m      2\u001b[0m     \u001b[38;5;241m.\u001b[39mmaster(\u001b[38;5;124m\"\u001b[39m\u001b[38;5;124mspark://localhost:7077\u001b[39m\u001b[38;5;124m\"\u001b[39m) \\\n\u001b[1;32m      3\u001b[0m     \u001b[38;5;241m.\u001b[39mappName(\u001b[38;5;124m\"\u001b[39m\u001b[38;5;124mCredit Fraud\u001b[39m\u001b[38;5;124m\"\u001b[39m) \\\n\u001b[1;32m      4\u001b[0m     \u001b[38;5;241m.\u001b[39mconfig(\u001b[38;5;124m\"\u001b[39m\u001b[38;5;124mspark.some.config.option\u001b[39m\u001b[38;5;124m\"\u001b[39m, \u001b[38;5;124m\"\u001b[39m\u001b[38;5;124msome-value\u001b[39m\u001b[38;5;124m\"\u001b[39m) \\\n\u001b[1;32m      5\u001b[0m     \u001b[38;5;241m.\u001b[39mgetOrCreate()\n",
      "\u001b[0;31mNameError\u001b[0m: name 'SparkSession' is not defined"
     ]
    }
   ],
   "source": [
    "spark = SparkSession.builder \\\n",
    "    .master(\"spark://localhost:7077\") \\\n",
    "    .appName(\"Credit Fraud\") \\\n",
    "    .config(\"spark.some.config.option\", \"some-value\") \\\n",
    "    .getOrCreate()"
   ]
  },
  {
   "cell_type": "code",
   "execution_count": 3,
   "id": "c6191096-e049-41a2-93f1-56669693451d",
   "metadata": {},
   "outputs": [],
   "source": [
    "import time, math, csv, datetime\n",
    "import pandas as pd\n",
    "import matplotlib.pyplot as plt\n",
    "from datetime import date \n",
    "#from skimpy import skim\n",
    "import lightgbm as lgb\n",
    "#import seaborn as sns\n",
    "import numpy as np\n",
    "import sklearn\n",
    "from pyspark.sql import SparkSession"
   ]
  },
  {
   "cell_type": "code",
   "execution_count": 4,
   "id": "d45b785e-72db-485b-956a-6e3bf031e6f3",
   "metadata": {},
   "outputs": [],
   "source": [
    "def agefromdob(df):    \n",
    "    ages = []\n",
    "    for x in df['dob']:\n",
    "        xage = pd. to_datetime('today'). year-pd. to_datetime(x). year\n",
    "        ages.append(xage)\n",
    "    df['age'] = ages"
   ]
  },
  {
   "cell_type": "code",
   "execution_count": 5,
   "id": "2166b021-3ddb-4d70-9103-156721268a82",
   "metadata": {},
   "outputs": [],
   "source": [
    "df_train = pd.read_csv('fraudtrain.csv', header=0)\n",
    "df_test = pd.read_csv('fraudtest.csv', header=0)"
   ]
  },
  {
   "cell_type": "code",
   "execution_count": 6,
   "id": "6bd22870-2a9c-4540-87a5-d6e9b2508f52",
   "metadata": {},
   "outputs": [
    {
     "data": {
      "text/html": [
       "<div>\n",
       "<style scoped>\n",
       "    .dataframe tbody tr th:only-of-type {\n",
       "        vertical-align: middle;\n",
       "    }\n",
       "\n",
       "    .dataframe tbody tr th {\n",
       "        vertical-align: top;\n",
       "    }\n",
       "\n",
       "    .dataframe thead th {\n",
       "        text-align: right;\n",
       "    }\n",
       "</style>\n",
       "<table border=\"1\" class=\"dataframe\">\n",
       "  <thead>\n",
       "    <tr style=\"text-align: right;\">\n",
       "      <th></th>\n",
       "      <th>Unnamed: 0</th>\n",
       "      <th>trans_date_trans_time</th>\n",
       "      <th>cc_num</th>\n",
       "      <th>merchant</th>\n",
       "      <th>category</th>\n",
       "      <th>amt</th>\n",
       "      <th>first</th>\n",
       "      <th>last</th>\n",
       "      <th>gender</th>\n",
       "      <th>street</th>\n",
       "      <th>...</th>\n",
       "      <th>lat</th>\n",
       "      <th>long</th>\n",
       "      <th>city_pop</th>\n",
       "      <th>job</th>\n",
       "      <th>dob</th>\n",
       "      <th>trans_num</th>\n",
       "      <th>unix_time</th>\n",
       "      <th>merch_lat</th>\n",
       "      <th>merch_long</th>\n",
       "      <th>is_fraud</th>\n",
       "    </tr>\n",
       "  </thead>\n",
       "  <tbody>\n",
       "    <tr>\n",
       "      <th>0</th>\n",
       "      <td>0</td>\n",
       "      <td>2019-01-01 00:00:18</td>\n",
       "      <td>2703186189652095</td>\n",
       "      <td>fraud_Rippin, Kub and Mann</td>\n",
       "      <td>misc_net</td>\n",
       "      <td>4.97</td>\n",
       "      <td>Jennifer</td>\n",
       "      <td>Banks</td>\n",
       "      <td>F</td>\n",
       "      <td>561 Perry Cove</td>\n",
       "      <td>...</td>\n",
       "      <td>36.0788</td>\n",
       "      <td>-81.1781</td>\n",
       "      <td>3495</td>\n",
       "      <td>Psychologist, counselling</td>\n",
       "      <td>1988-03-09</td>\n",
       "      <td>0b242abb623afc578575680df30655b9</td>\n",
       "      <td>1325376018</td>\n",
       "      <td>36.011293</td>\n",
       "      <td>-82.048315</td>\n",
       "      <td>0</td>\n",
       "    </tr>\n",
       "    <tr>\n",
       "      <th>1</th>\n",
       "      <td>1</td>\n",
       "      <td>2019-01-01 00:00:44</td>\n",
       "      <td>630423337322</td>\n",
       "      <td>fraud_Heller, Gutmann and Zieme</td>\n",
       "      <td>grocery_pos</td>\n",
       "      <td>107.23</td>\n",
       "      <td>Stephanie</td>\n",
       "      <td>Gill</td>\n",
       "      <td>F</td>\n",
       "      <td>43039 Riley Greens Suite 393</td>\n",
       "      <td>...</td>\n",
       "      <td>48.8878</td>\n",
       "      <td>-118.2105</td>\n",
       "      <td>149</td>\n",
       "      <td>Special educational needs teacher</td>\n",
       "      <td>1978-06-21</td>\n",
       "      <td>1f76529f8574734946361c461b024d99</td>\n",
       "      <td>1325376044</td>\n",
       "      <td>49.159047</td>\n",
       "      <td>-118.186462</td>\n",
       "      <td>0</td>\n",
       "    </tr>\n",
       "    <tr>\n",
       "      <th>2</th>\n",
       "      <td>2</td>\n",
       "      <td>2019-01-01 00:00:51</td>\n",
       "      <td>38859492057661</td>\n",
       "      <td>fraud_Lind-Buckridge</td>\n",
       "      <td>entertainment</td>\n",
       "      <td>220.11</td>\n",
       "      <td>Edward</td>\n",
       "      <td>Sanchez</td>\n",
       "      <td>M</td>\n",
       "      <td>594 White Dale Suite 530</td>\n",
       "      <td>...</td>\n",
       "      <td>42.1808</td>\n",
       "      <td>-112.2620</td>\n",
       "      <td>4154</td>\n",
       "      <td>Nature conservation officer</td>\n",
       "      <td>1962-01-19</td>\n",
       "      <td>a1a22d70485983eac12b5b88dad1cf95</td>\n",
       "      <td>1325376051</td>\n",
       "      <td>43.150704</td>\n",
       "      <td>-112.154481</td>\n",
       "      <td>0</td>\n",
       "    </tr>\n",
       "    <tr>\n",
       "      <th>3</th>\n",
       "      <td>3</td>\n",
       "      <td>2019-01-01 00:01:16</td>\n",
       "      <td>3534093764340240</td>\n",
       "      <td>fraud_Kutch, Hermiston and Farrell</td>\n",
       "      <td>gas_transport</td>\n",
       "      <td>45.00</td>\n",
       "      <td>Jeremy</td>\n",
       "      <td>White</td>\n",
       "      <td>M</td>\n",
       "      <td>9443 Cynthia Court Apt. 038</td>\n",
       "      <td>...</td>\n",
       "      <td>46.2306</td>\n",
       "      <td>-112.1138</td>\n",
       "      <td>1939</td>\n",
       "      <td>Patent attorney</td>\n",
       "      <td>1967-01-12</td>\n",
       "      <td>6b849c168bdad6f867558c3793159a81</td>\n",
       "      <td>1325376076</td>\n",
       "      <td>47.034331</td>\n",
       "      <td>-112.561071</td>\n",
       "      <td>0</td>\n",
       "    </tr>\n",
       "    <tr>\n",
       "      <th>4</th>\n",
       "      <td>4</td>\n",
       "      <td>2019-01-01 00:03:06</td>\n",
       "      <td>375534208663984</td>\n",
       "      <td>fraud_Keeling-Crist</td>\n",
       "      <td>misc_pos</td>\n",
       "      <td>41.96</td>\n",
       "      <td>Tyler</td>\n",
       "      <td>Garcia</td>\n",
       "      <td>M</td>\n",
       "      <td>408 Bradley Rest</td>\n",
       "      <td>...</td>\n",
       "      <td>38.4207</td>\n",
       "      <td>-79.4629</td>\n",
       "      <td>99</td>\n",
       "      <td>Dance movement psychotherapist</td>\n",
       "      <td>1986-03-28</td>\n",
       "      <td>a41d7549acf90789359a9aa5346dcb46</td>\n",
       "      <td>1325376186</td>\n",
       "      <td>38.674999</td>\n",
       "      <td>-78.632459</td>\n",
       "      <td>0</td>\n",
       "    </tr>\n",
       "    <tr>\n",
       "      <th>...</th>\n",
       "      <td>...</td>\n",
       "      <td>...</td>\n",
       "      <td>...</td>\n",
       "      <td>...</td>\n",
       "      <td>...</td>\n",
       "      <td>...</td>\n",
       "      <td>...</td>\n",
       "      <td>...</td>\n",
       "      <td>...</td>\n",
       "      <td>...</td>\n",
       "      <td>...</td>\n",
       "      <td>...</td>\n",
       "      <td>...</td>\n",
       "      <td>...</td>\n",
       "      <td>...</td>\n",
       "      <td>...</td>\n",
       "      <td>...</td>\n",
       "      <td>...</td>\n",
       "      <td>...</td>\n",
       "      <td>...</td>\n",
       "      <td>...</td>\n",
       "    </tr>\n",
       "    <tr>\n",
       "      <th>1296670</th>\n",
       "      <td>1296670</td>\n",
       "      <td>2020-06-21 12:12:08</td>\n",
       "      <td>30263540414123</td>\n",
       "      <td>fraud_Reichel Inc</td>\n",
       "      <td>entertainment</td>\n",
       "      <td>15.56</td>\n",
       "      <td>Erik</td>\n",
       "      <td>Patterson</td>\n",
       "      <td>M</td>\n",
       "      <td>162 Jessica Row Apt. 072</td>\n",
       "      <td>...</td>\n",
       "      <td>37.7175</td>\n",
       "      <td>-112.4777</td>\n",
       "      <td>258</td>\n",
       "      <td>Geoscientist</td>\n",
       "      <td>1961-11-24</td>\n",
       "      <td>440b587732da4dc1a6395aba5fb41669</td>\n",
       "      <td>1371816728</td>\n",
       "      <td>36.841266</td>\n",
       "      <td>-111.690765</td>\n",
       "      <td>0</td>\n",
       "    </tr>\n",
       "    <tr>\n",
       "      <th>1296671</th>\n",
       "      <td>1296671</td>\n",
       "      <td>2020-06-21 12:12:19</td>\n",
       "      <td>6011149206456997</td>\n",
       "      <td>fraud_Abernathy and Sons</td>\n",
       "      <td>food_dining</td>\n",
       "      <td>51.70</td>\n",
       "      <td>Jeffrey</td>\n",
       "      <td>White</td>\n",
       "      <td>M</td>\n",
       "      <td>8617 Holmes Terrace Suite 651</td>\n",
       "      <td>...</td>\n",
       "      <td>39.2667</td>\n",
       "      <td>-77.5101</td>\n",
       "      <td>100</td>\n",
       "      <td>Production assistant, television</td>\n",
       "      <td>1979-12-11</td>\n",
       "      <td>278000d2e0d2277d1de2f890067dcc0a</td>\n",
       "      <td>1371816739</td>\n",
       "      <td>38.906881</td>\n",
       "      <td>-78.246528</td>\n",
       "      <td>0</td>\n",
       "    </tr>\n",
       "    <tr>\n",
       "      <th>1296672</th>\n",
       "      <td>1296672</td>\n",
       "      <td>2020-06-21 12:12:32</td>\n",
       "      <td>3514865930894695</td>\n",
       "      <td>fraud_Stiedemann Ltd</td>\n",
       "      <td>food_dining</td>\n",
       "      <td>105.93</td>\n",
       "      <td>Christopher</td>\n",
       "      <td>Castaneda</td>\n",
       "      <td>M</td>\n",
       "      <td>1632 Cohen Drive Suite 639</td>\n",
       "      <td>...</td>\n",
       "      <td>32.9396</td>\n",
       "      <td>-105.8189</td>\n",
       "      <td>899</td>\n",
       "      <td>Naval architect</td>\n",
       "      <td>1967-08-30</td>\n",
       "      <td>483f52fe67fabef353d552c1e662974c</td>\n",
       "      <td>1371816752</td>\n",
       "      <td>33.619513</td>\n",
       "      <td>-105.130529</td>\n",
       "      <td>0</td>\n",
       "    </tr>\n",
       "    <tr>\n",
       "      <th>1296673</th>\n",
       "      <td>1296673</td>\n",
       "      <td>2020-06-21 12:13:36</td>\n",
       "      <td>2720012583106919</td>\n",
       "      <td>fraud_Reinger, Weissnat and Strosin</td>\n",
       "      <td>food_dining</td>\n",
       "      <td>74.90</td>\n",
       "      <td>Joseph</td>\n",
       "      <td>Murray</td>\n",
       "      <td>M</td>\n",
       "      <td>42933 Ryan Underpass</td>\n",
       "      <td>...</td>\n",
       "      <td>43.3526</td>\n",
       "      <td>-102.5411</td>\n",
       "      <td>1126</td>\n",
       "      <td>Volunteer coordinator</td>\n",
       "      <td>1980-08-18</td>\n",
       "      <td>d667cdcbadaaed3da3f4020e83591c83</td>\n",
       "      <td>1371816816</td>\n",
       "      <td>42.788940</td>\n",
       "      <td>-103.241160</td>\n",
       "      <td>0</td>\n",
       "    </tr>\n",
       "    <tr>\n",
       "      <th>1296674</th>\n",
       "      <td>1296674</td>\n",
       "      <td>2020-06-21 12:13:37</td>\n",
       "      <td>4292902571056973207</td>\n",
       "      <td>fraud_Langosh, Wintheiser and Hyatt</td>\n",
       "      <td>food_dining</td>\n",
       "      <td>4.30</td>\n",
       "      <td>Jeffrey</td>\n",
       "      <td>Smith</td>\n",
       "      <td>M</td>\n",
       "      <td>135 Joseph Mountains</td>\n",
       "      <td>...</td>\n",
       "      <td>45.8433</td>\n",
       "      <td>-113.8748</td>\n",
       "      <td>218</td>\n",
       "      <td>Therapist, horticultural</td>\n",
       "      <td>1995-08-16</td>\n",
       "      <td>8f7c8e4ab7f25875d753b422917c98c9</td>\n",
       "      <td>1371816817</td>\n",
       "      <td>46.565983</td>\n",
       "      <td>-114.186110</td>\n",
       "      <td>0</td>\n",
       "    </tr>\n",
       "  </tbody>\n",
       "</table>\n",
       "<p>1296675 rows × 23 columns</p>\n",
       "</div>"
      ],
      "text/plain": [
       "         Unnamed: 0 trans_date_trans_time               cc_num  \\\n",
       "0                 0   2019-01-01 00:00:18     2703186189652095   \n",
       "1                 1   2019-01-01 00:00:44         630423337322   \n",
       "2                 2   2019-01-01 00:00:51       38859492057661   \n",
       "3                 3   2019-01-01 00:01:16     3534093764340240   \n",
       "4                 4   2019-01-01 00:03:06      375534208663984   \n",
       "...             ...                   ...                  ...   \n",
       "1296670     1296670   2020-06-21 12:12:08       30263540414123   \n",
       "1296671     1296671   2020-06-21 12:12:19     6011149206456997   \n",
       "1296672     1296672   2020-06-21 12:12:32     3514865930894695   \n",
       "1296673     1296673   2020-06-21 12:13:36     2720012583106919   \n",
       "1296674     1296674   2020-06-21 12:13:37  4292902571056973207   \n",
       "\n",
       "                                    merchant       category     amt  \\\n",
       "0                 fraud_Rippin, Kub and Mann       misc_net    4.97   \n",
       "1            fraud_Heller, Gutmann and Zieme    grocery_pos  107.23   \n",
       "2                       fraud_Lind-Buckridge  entertainment  220.11   \n",
       "3         fraud_Kutch, Hermiston and Farrell  gas_transport   45.00   \n",
       "4                        fraud_Keeling-Crist       misc_pos   41.96   \n",
       "...                                      ...            ...     ...   \n",
       "1296670                    fraud_Reichel Inc  entertainment   15.56   \n",
       "1296671             fraud_Abernathy and Sons    food_dining   51.70   \n",
       "1296672                 fraud_Stiedemann Ltd    food_dining  105.93   \n",
       "1296673  fraud_Reinger, Weissnat and Strosin    food_dining   74.90   \n",
       "1296674  fraud_Langosh, Wintheiser and Hyatt    food_dining    4.30   \n",
       "\n",
       "               first       last gender                         street  ...  \\\n",
       "0           Jennifer      Banks      F                 561 Perry Cove  ...   \n",
       "1          Stephanie       Gill      F   43039 Riley Greens Suite 393  ...   \n",
       "2             Edward    Sanchez      M       594 White Dale Suite 530  ...   \n",
       "3             Jeremy      White      M    9443 Cynthia Court Apt. 038  ...   \n",
       "4              Tyler     Garcia      M               408 Bradley Rest  ...   \n",
       "...              ...        ...    ...                            ...  ...   \n",
       "1296670         Erik  Patterson      M       162 Jessica Row Apt. 072  ...   \n",
       "1296671      Jeffrey      White      M  8617 Holmes Terrace Suite 651  ...   \n",
       "1296672  Christopher  Castaneda      M     1632 Cohen Drive Suite 639  ...   \n",
       "1296673       Joseph     Murray      M           42933 Ryan Underpass  ...   \n",
       "1296674      Jeffrey      Smith      M           135 Joseph Mountains  ...   \n",
       "\n",
       "             lat      long  city_pop                                job  \\\n",
       "0        36.0788  -81.1781      3495          Psychologist, counselling   \n",
       "1        48.8878 -118.2105       149  Special educational needs teacher   \n",
       "2        42.1808 -112.2620      4154        Nature conservation officer   \n",
       "3        46.2306 -112.1138      1939                    Patent attorney   \n",
       "4        38.4207  -79.4629        99     Dance movement psychotherapist   \n",
       "...          ...       ...       ...                                ...   \n",
       "1296670  37.7175 -112.4777       258                       Geoscientist   \n",
       "1296671  39.2667  -77.5101       100   Production assistant, television   \n",
       "1296672  32.9396 -105.8189       899                    Naval architect   \n",
       "1296673  43.3526 -102.5411      1126              Volunteer coordinator   \n",
       "1296674  45.8433 -113.8748       218           Therapist, horticultural   \n",
       "\n",
       "                dob                         trans_num   unix_time  merch_lat  \\\n",
       "0        1988-03-09  0b242abb623afc578575680df30655b9  1325376018  36.011293   \n",
       "1        1978-06-21  1f76529f8574734946361c461b024d99  1325376044  49.159047   \n",
       "2        1962-01-19  a1a22d70485983eac12b5b88dad1cf95  1325376051  43.150704   \n",
       "3        1967-01-12  6b849c168bdad6f867558c3793159a81  1325376076  47.034331   \n",
       "4        1986-03-28  a41d7549acf90789359a9aa5346dcb46  1325376186  38.674999   \n",
       "...             ...                               ...         ...        ...   \n",
       "1296670  1961-11-24  440b587732da4dc1a6395aba5fb41669  1371816728  36.841266   \n",
       "1296671  1979-12-11  278000d2e0d2277d1de2f890067dcc0a  1371816739  38.906881   \n",
       "1296672  1967-08-30  483f52fe67fabef353d552c1e662974c  1371816752  33.619513   \n",
       "1296673  1980-08-18  d667cdcbadaaed3da3f4020e83591c83  1371816816  42.788940   \n",
       "1296674  1995-08-16  8f7c8e4ab7f25875d753b422917c98c9  1371816817  46.565983   \n",
       "\n",
       "         merch_long  is_fraud  \n",
       "0        -82.048315         0  \n",
       "1       -118.186462         0  \n",
       "2       -112.154481         0  \n",
       "3       -112.561071         0  \n",
       "4        -78.632459         0  \n",
       "...             ...       ...  \n",
       "1296670 -111.690765         0  \n",
       "1296671  -78.246528         0  \n",
       "1296672 -105.130529         0  \n",
       "1296673 -103.241160         0  \n",
       "1296674 -114.186110         0  \n",
       "\n",
       "[1296675 rows x 23 columns]"
      ]
     },
     "execution_count": 6,
     "metadata": {},
     "output_type": "execute_result"
    }
   ],
   "source": [
    "df_train"
   ]
  },
  {
   "cell_type": "code",
   "execution_count": 7,
   "id": "718005a0-ee98-4976-afe7-b461d1c09213",
   "metadata": {},
   "outputs": [],
   "source": [
    "categoricalfeatures = [ 'city', 'merchant', 'job', 'category', 'state', 'first', 'last', 'zip'] \n",
    "for x in categoricalfeatures:\n",
    "    df_test[x] = pd.Categorical(df_test[x])\n",
    "    df_train[x] = pd.Categorical(df_train[x])\n"
   ]
  },
  {
   "cell_type": "code",
   "execution_count": 8,
   "id": "e9cf88e7-4ace-48f1-9ca1-d331979aca86",
   "metadata": {},
   "outputs": [],
   "source": [
    "agefromdob(df_train)\n",
    "agefromdob(df_test)"
   ]
  },
  {
   "cell_type": "code",
   "execution_count": 9,
   "id": "98dfe3fb-dc70-4000-bc7a-1ea48d4d5834",
   "metadata": {},
   "outputs": [
    {
     "data": {
      "text/plain": [
       "0    1289169\n",
       "1       7506\n",
       "Name: is_fraud, dtype: int64"
      ]
     },
     "execution_count": 9,
     "metadata": {},
     "output_type": "execute_result"
    }
   ],
   "source": [
    "df_train['is_fraud'].value_counts()"
   ]
  },
  {
   "cell_type": "code",
   "execution_count": 10,
   "id": "da07375a",
   "metadata": {},
   "outputs": [],
   "source": [
    "features = ['lat', 'long','amt','city_pop', 'merch_lat', 'merch_long', 'city', 'merchant', 'job', 'category', 'age', 'zip'] #, 'state', 'first', 'last'\n",
    "train_data = lgb.Dataset(df_train[features], df_train['is_fraud'],feature_name = 'auto')\n",
    "test_data = lgb.Dataset(df_test[features] , df_test['is_fraud'], feature_name = 'auto')\n",
    "#.write().csv(\"output\")\n",
    "#, 'unix_time'"
   ]
  },
  {
   "cell_type": "code",
   "execution_count": 53,
   "id": "d028e17e",
   "metadata": {},
   "outputs": [
    {
     "name": "stderr",
     "output_type": "stream",
     "text": [
      "/Users/Lynden/opt/anaconda3/envs/jupyter/lib/python3.10/site-packages/lightgbm/engine.py:177: UserWarning: Found `num_iterations` in params. Will use it instead of argument\n",
      "  _log_warning(f\"Found `{alias}` in params. Will use it instead of argument\")\n"
     ]
    },
    {
     "name": "stdout",
     "output_type": "stream",
     "text": [
      "[LightGBM] [Info] Number of positive: 7506, number of negative: 1289169\n",
      "[LightGBM] [Info] Total Bins 11690\n",
      "[LightGBM] [Info] Number of data points in the train set: 1296675, number of used features: 12\n",
      "[LightGBM] [Info] [binary:BoostFromScore]: pavg=0.005789 -> initscore=-5.146050\n",
      "[LightGBM] [Info] Start training from score -5.146050\n"
     ]
    },
    {
     "name": "stderr",
     "output_type": "stream",
     "text": [
      "/Users/Lynden/opt/anaconda3/envs/jupyter/lib/python3.10/site-packages/lightgbm/basic.py:1780: UserWarning: Overriding the parameters from Reference Dataset.\n",
      "  _log_warning('Overriding the parameters from Reference Dataset.')\n",
      "/Users/Lynden/opt/anaconda3/envs/jupyter/lib/python3.10/site-packages/lightgbm/basic.py:1513: UserWarning: categorical_column in param dict is overridden.\n",
      "  _log_warning(f'{cat_alias} in param dict is overridden.')\n"
     ]
    }
   ],
   "source": [
    "params = {'objective': 'binary', 'metric': 'auc', 'learning_rate': 0.03, 'num_leaves': 300, 'boosting': 'dart', 'force_col_wise': True, 'num_threads': 8, 'num_iterations': 200, 'feature_pre_filter': 'false', 'max_bin': 2000}\n",
    "evals = {} # 'min_data_in_bin': 1 , 'min_data_in_leaf':30 \n",
    "model = lgb.train(params, train_data, valid_sets=[train_data, test_data], valid_names=['train', 'test'], callbacks=[lgb.record_evaluation(evals)])"
   ]
  },
  {
   "cell_type": "code",
   "execution_count": 54,
   "id": "1f4811ab-d49c-4429-939f-36e72edee0aa",
   "metadata": {},
   "outputs": [
    {
     "data": {
      "text/plain": [
       "<AxesSubplot: title={'center': 'Metric during training'}, xlabel='Iterations', ylabel='auc'>"
      ]
     },
     "execution_count": 54,
     "metadata": {},
     "output_type": "execute_result"
    },
    {
     "data": {
      "image/png": "[encoded data removed]",
      "text/plain": [
       "<Figure size 640x480 with 1 Axes>"
      ]
     },
     "metadata": {},
     "output_type": "display_data"
    }
   ],
   "source": [
    "lgb.plot_metric(evals)"
   ]
  },
  {
   "cell_type": "code",
   "execution_count": 55,
   "id": "79230a25-08f1-4ff9-82b1-1d50cb0c6ea1",
   "metadata": {},
   "outputs": [],
   "source": [
    "\n",
    "pred = model.predict(\n",
    "  df_test[features]\n",
    ")\n",
    "pred_label = np.round(pred)"
   ]
  },
  {
   "cell_type": "code",
   "execution_count": 56,
   "id": "4d6b3353-bf0d-46ff-8169-0f3fbd7d7c8b",
   "metadata": {},
   "outputs": [
    {
     "data": {
      "text/plain": [
       "0.9975545194603748"
      ]
     },
     "execution_count": 56,
     "metadata": {},
     "output_type": "execute_result"
    }
   ],
   "source": [
    "np.sum(pred_label == df_test['is_fraud']) / pred_label.shape[0]"
   ]
  },
  {
   "cell_type": "code",
   "execution_count": 57,
   "id": "43477367-ad15-4ae5-8b47-8c7560ec185b",
   "metadata": {},
   "outputs": [
    {
     "name": "stdout",
     "output_type": "stream",
     "text": [
      "0    553574\n",
      "1      2145\n",
      "Name: is_fraud, dtype: int64\n",
      "f1: 0.640761300555115\n"
     ]
    },
    {
     "data": {
      "text/plain": [
       "<sklearn.metrics._plot.confusion_matrix.ConfusionMatrixDisplay at 0x19bb73670>"
      ]
     },
     "execution_count": 57,
     "metadata": {},
     "output_type": "execute_result"
    },
    {
     "data": {
      "image/png": "[encoded data removed]",
      "text/plain": [
       "<Figure size 640x480 with 1 Axes>"
      ]
     },
     "metadata": {},
     "output_type": "display_data"
    },
    {
     "data": {
      "image/png": "[encoded data removed]",
      "text/plain": [
       "<Figure size 640x480 with 2 Axes>"
      ]
     },
     "metadata": {},
     "output_type": "display_data"
    }
   ],
   "source": [
    "print(df_test['is_fraud'].value_counts())\n",
    "lgb.plot_importance(model)\n",
    "confusion = sklearn.metrics.confusion_matrix(df_test['is_fraud'], pred_label)\n",
    "disp = sklearn.metrics.ConfusionMatrixDisplay(confusion)\n",
    "f1score = sklearn.metrics.f1_score(df_test['is_fraud'], pred_label)\n",
    "print(\"f1: \" + str(f1score))\n",
    "disp.plot()"
   ]
  },
  {
   "cell_type": "code",
   "execution_count": null,
   "id": "3aa8addb-df02-47ae-9674-1d1c14323d1f",
   "metadata": {},
   "outputs": [],
   "source": []
  },
  {
   "cell_type": "code",
   "execution_count": null,
   "id": "541c2177-2384-4087-b8f2-46801fdfc120",
   "metadata": {},
   "outputs": [],
   "source": []
  },
  {
   "cell_type": "code",
   "execution_count": null,
   "id": "2ada9e8b-aa4f-4766-a48b-26ef8285d6a9",
   "metadata": {},
   "outputs": [],
   "source": []
  }
 ],
 "metadata": {
  "kernelspec": {
   "display_name": "Python [conda env:jupyter]",
   "language": "python",
   "name": "conda-env-jupyter-py"
  },
  "language_info": {
   "codemirror_mode": {
    "name": "ipython",
    "version": 3
   },
   "file_extension": ".py",
   "mimetype": "text/x-python",
   "name": "python",
   "nbconvert_exporter": "python",
   "pygments_lexer": "ipython3",
   "version": "3.10.8"
  }
 },
 "nbformat": 4,
 "nbformat_minor": 5
}
